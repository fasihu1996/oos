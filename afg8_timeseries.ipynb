{
 "cells": [
  {
   "cell_type": "code",
   "execution_count": 1,
   "id": "initial_id",
   "metadata": {},
   "outputs": [],
   "source": [
    "import pandas as pd\n",
    "import numpy as np\n",
    "from datetime import datetime"
   ]
  },
  {
   "cell_type": "code",
   "execution_count": 2,
   "id": "f8937b98-1b59-4965-9e32-9ff6ab7817c5",
   "metadata": {},
   "outputs": [
    {
     "data": {
      "text/plain": [
       "DatetimeIndex(['2015-07-03', '2015-07-04', '2015-07-06', '2015-07-07',\n",
       "               '2015-09-20', '2023-09-20'],\n",
       "              dtype='datetime64[ns]', freq=None)"
      ]
     },
     "execution_count": 2,
     "metadata": {},
     "output_type": "execute_result"
    }
   ],
   "source": [
    "d = [datetime(2015, 7, 3), '4th of July, 2015', '2015-Jul-6', '07-07-2015', '20.09.2015', '20. September 2023']\n",
    "d2 = pd.to_datetime(d)\n",
    "d2"
   ]
  },
  {
   "cell_type": "code",
   "execution_count": 3,
   "id": "c47deace-dfae-4d83-a612-181cc1f890c1",
   "metadata": {},
   "outputs": [
    {
     "data": {
      "text/plain": [
       "0     2.252401\n",
       "1    -0.430957\n",
       "2     0.280704\n",
       "3    -0.342592\n",
       "4     0.048702\n",
       "        ...   \n",
       "95   -1.985237\n",
       "96   -0.063881\n",
       "97   -1.929775\n",
       "98    1.083969\n",
       "99   -1.699384\n",
       "Length: 100, dtype: float64"
      ]
     },
     "execution_count": 3,
     "metadata": {},
     "output_type": "execute_result"
    }
   ],
   "source": [
    "d3 = pd.Series(np.random.randn(100))\n",
    "d3"
   ]
  },
  {
   "cell_type": "code",
   "execution_count": 4,
   "id": "88005dcf-fc3c-4311-9663-ab601a8f3379",
   "metadata": {},
   "outputs": [
    {
     "data": {
      "text/plain": [
       "10    0.171207\n",
       "11    0.201030\n",
       "12    0.249204\n",
       "13    0.232497\n",
       "14    0.095520\n",
       "        ...   \n",
       "95   -0.260908\n",
       "96   -0.434731\n",
       "97   -0.530470\n",
       "98   -0.443009\n",
       "99   -0.576713\n",
       "Length: 90, dtype: float64"
      ]
     },
     "execution_count": 4,
     "metadata": {},
     "output_type": "execute_result"
    }
   ],
   "source": [
    "gd10=d3.rolling(window=10).mean()\n",
    "gd10[10:]"
   ]
  },
  {
   "cell_type": "code",
   "execution_count": null,
   "id": "c91a367e-f2e7-4efd-8785-8395fd64ed21",
   "metadata": {},
   "outputs": [],
   "source": []
  }
 ],
 "metadata": {
  "kernelspec": {
   "display_name": "Python 3 (ipykernel)",
   "language": "python",
   "name": "python3"
  },
  "language_info": {
   "codemirror_mode": {
    "name": "ipython",
    "version": 3
   },
   "file_extension": ".py",
   "mimetype": "text/x-python",
   "name": "python",
   "nbconvert_exporter": "python",
   "pygments_lexer": "ipython3",
   "version": "3.13.2"
  }
 },
 "nbformat": 4,
 "nbformat_minor": 5
}
